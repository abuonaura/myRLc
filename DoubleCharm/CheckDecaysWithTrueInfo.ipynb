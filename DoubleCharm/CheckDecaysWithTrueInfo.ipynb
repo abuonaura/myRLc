{
 "cells": [
  {
   "cell_type": "code",
   "execution_count": 1,
   "id": "0522b22f",
   "metadata": {},
   "outputs": [
    {
     "name": "stdout",
     "output_type": "stream",
     "text": [
      "Welcome to JupyROOT 6.22/06\n"
     ]
    }
   ],
   "source": [
    "import ROOT as r\n",
    "from ROOT import TFile, TTree, TH1F, TCanvas, TMath, TLegend\n",
    "from array import array\n",
    "import matplotlib as mpl\n",
    "import matplotlib.pyplot as plt\n",
    "import pandas as pd\n",
    "%matplotlib inline\n",
    "%matplotlib widget\n",
    "%matplotlib inline\n",
    "import uproot\n",
    "%jsroot on "
   ]
  },
  {
   "cell_type": "markdown",
   "id": "bca88e3d",
   "metadata": {},
   "source": [
    "## Study Lb->LcXc"
   ]
  },
  {
   "cell_type": "code",
   "execution_count": 2,
   "id": "30fd9931",
   "metadata": {},
   "outputs": [],
   "source": [
    "folder = '/Users/annarita/cernbox/LHCbDatasets/MC_TrackerOnly/'\n",
    "t = uproot.open(folder+'Lb_LcDs_MagUp.root:tupleout/DecayTree')\n",
    "tpresel = uproot.open(folder+'Lb_Lcmunu_MagUp_preselectionVars.root:DecayTree')"
   ]
  },
  {
   "cell_type": "code",
   "execution_count": 3,
   "id": "ddeb0b7c",
   "metadata": {},
   "outputs": [],
   "source": [
    "def ScaleHisto(h,value):\n",
    "    scale = value/h.Integral()\n",
    "    h.Scale(scale)\n",
    "    return h"
   ]
  },
  {
   "cell_type": "code",
   "execution_count": 4,
   "id": "5f2d5dff",
   "metadata": {},
   "outputs": [],
   "source": [
    "def GetName(fitvar):\n",
    "    if fitvar=='q2':\n",
    "        return 'FitVar_q2_mLc'\n",
    "    elif fitvar=='El':\n",
    "        return 'FitVar_El_mLc'\n",
    "    elif fitvar=='MM':\n",
    "        return 'FitVar_Mmiss2_mLc'\n",
    "    else:\n",
    "        print('Variable not found')"
   ]
  },
  {
   "cell_type": "code",
   "execution_count": 5,
   "id": "6b4d2d56",
   "metadata": {},
   "outputs": [],
   "source": [
    "variables = ['Lb_IPCHI2_OWNPV', 'Lb_IP_OWNPV', 'Lb_TRUEP_X','Lb_TRUEP_Y','Lb_TRUEP_Z','Lb_BKGCAT','Lc_BKGCAT',\n",
    "            'Lb_TRUEID', 'Lc_TRUEID', 'mu_TRUEID', 'mu_MC_MOTHER_ID','Lb_P','Lb_PT','Lc_M','mu_PT','mu_P','p_P',\n",
    "             'p_PT','K_P','K_PT','pi_P','pi_PT','FitVar_El_mLc','FitVar_q2_mLc','FitVar_Mmiss2_mLc',\n",
    "             'Lb_ISOLATION_BDT','Lb_ISOLATION_BDT2','Lb_ISOLATION_BDT3','Lb_ISOLATION_TruePID',\n",
    "             'Lb_ISOLATION_TruePID2','Lb_ISOLATION_TruePID3','Lb_ISOLATION_TrueMotherPID',\n",
    "             'Lb_ISOLATION_TrueMotherPID2','Lb_ISOLATION_TrueMotherPID3','Lb_ISOLATION_TrueGrandmotherPID',\n",
    "             'Lb_ISOLATION_TrueGrandmotherPID2','Lb_ISOLATION_TrueGrandmotherPID3']\n",
    "df = t.arrays(variables, library=\"pd\")"
   ]
  },
  {
   "cell_type": "code",
   "execution_count": 6,
   "id": "e98e25a6",
   "metadata": {},
   "outputs": [
    {
     "data": {
      "text/html": [
       "<div>\n",
       "<style scoped>\n",
       "    .dataframe tbody tr th:only-of-type {\n",
       "        vertical-align: middle;\n",
       "    }\n",
       "\n",
       "    .dataframe tbody tr th {\n",
       "        vertical-align: top;\n",
       "    }\n",
       "\n",
       "    .dataframe thead th {\n",
       "        text-align: right;\n",
       "    }\n",
       "</style>\n",
       "<table border=\"1\" class=\"dataframe\">\n",
       "  <thead>\n",
       "    <tr style=\"text-align: right;\">\n",
       "      <th></th>\n",
       "      <th>Lb_IPCHI2_OWNPV</th>\n",
       "      <th>Lb_IP_OWNPV</th>\n",
       "      <th>Lb_TRUEP_X</th>\n",
       "      <th>Lb_TRUEP_Y</th>\n",
       "      <th>Lb_TRUEP_Z</th>\n",
       "      <th>Lb_BKGCAT</th>\n",
       "      <th>Lc_BKGCAT</th>\n",
       "      <th>Lb_TRUEID</th>\n",
       "      <th>Lc_TRUEID</th>\n",
       "      <th>mu_TRUEID</th>\n",
       "      <th>...</th>\n",
       "      <th>Lb_ISOLATION_BDT3</th>\n",
       "      <th>Lb_ISOLATION_TruePID</th>\n",
       "      <th>Lb_ISOLATION_TruePID2</th>\n",
       "      <th>Lb_ISOLATION_TruePID3</th>\n",
       "      <th>Lb_ISOLATION_TrueMotherPID</th>\n",
       "      <th>Lb_ISOLATION_TrueMotherPID2</th>\n",
       "      <th>Lb_ISOLATION_TrueMotherPID3</th>\n",
       "      <th>Lb_ISOLATION_TrueGrandmotherPID</th>\n",
       "      <th>Lb_ISOLATION_TrueGrandmotherPID2</th>\n",
       "      <th>Lb_ISOLATION_TrueGrandmotherPID3</th>\n",
       "    </tr>\n",
       "  </thead>\n",
       "  <tbody>\n",
       "    <tr>\n",
       "      <th>0</th>\n",
       "      <td>46.237917</td>\n",
       "      <td>0.133232</td>\n",
       "      <td>861.08</td>\n",
       "      <td>-8949.86</td>\n",
       "      <td>51479.93</td>\n",
       "      <td>40</td>\n",
       "      <td>0</td>\n",
       "      <td>5122</td>\n",
       "      <td>4122</td>\n",
       "      <td>13</td>\n",
       "      <td>...</td>\n",
       "      <td>-0.538102</td>\n",
       "      <td>-321</td>\n",
       "      <td>0</td>\n",
       "      <td>211</td>\n",
       "      <td>5122</td>\n",
       "      <td>0</td>\n",
       "      <td>323</td>\n",
       "      <td>5214</td>\n",
       "      <td>0</td>\n",
       "      <td>0</td>\n",
       "    </tr>\n",
       "    <tr>\n",
       "      <th>1</th>\n",
       "      <td>8.797902</td>\n",
       "      <td>0.045204</td>\n",
       "      <td>-9155.36</td>\n",
       "      <td>2165.33</td>\n",
       "      <td>69458.47</td>\n",
       "      <td>40</td>\n",
       "      <td>0</td>\n",
       "      <td>5122</td>\n",
       "      <td>4122</td>\n",
       "      <td>13</td>\n",
       "      <td>...</td>\n",
       "      <td>-0.532347</td>\n",
       "      <td>-13</td>\n",
       "      <td>0</td>\n",
       "      <td>0</td>\n",
       "      <td>521</td>\n",
       "      <td>0</td>\n",
       "      <td>0</td>\n",
       "      <td>523</td>\n",
       "      <td>0</td>\n",
       "      <td>0</td>\n",
       "    </tr>\n",
       "    <tr>\n",
       "      <th>2</th>\n",
       "      <td>7.552060</td>\n",
       "      <td>0.041658</td>\n",
       "      <td>-9155.36</td>\n",
       "      <td>2165.33</td>\n",
       "      <td>69458.47</td>\n",
       "      <td>40</td>\n",
       "      <td>40</td>\n",
       "      <td>5122</td>\n",
       "      <td>5122</td>\n",
       "      <td>211</td>\n",
       "      <td>...</td>\n",
       "      <td>-0.416917</td>\n",
       "      <td>0</td>\n",
       "      <td>-13</td>\n",
       "      <td>0</td>\n",
       "      <td>0</td>\n",
       "      <td>521</td>\n",
       "      <td>0</td>\n",
       "      <td>0</td>\n",
       "      <td>523</td>\n",
       "      <td>0</td>\n",
       "    </tr>\n",
       "    <tr>\n",
       "      <th>3</th>\n",
       "      <td>17.848903</td>\n",
       "      <td>0.051664</td>\n",
       "      <td>-11793.03</td>\n",
       "      <td>383.18</td>\n",
       "      <td>158673.43</td>\n",
       "      <td>40</td>\n",
       "      <td>40</td>\n",
       "      <td>5122</td>\n",
       "      <td>5122</td>\n",
       "      <td>-321</td>\n",
       "      <td>...</td>\n",
       "      <td>0.097560</td>\n",
       "      <td>13</td>\n",
       "      <td>0</td>\n",
       "      <td>321</td>\n",
       "      <td>-421</td>\n",
       "      <td>0</td>\n",
       "      <td>-421</td>\n",
       "      <td>-423</td>\n",
       "      <td>0</td>\n",
       "      <td>-423</td>\n",
       "    </tr>\n",
       "    <tr>\n",
       "      <th>4</th>\n",
       "      <td>34.358690</td>\n",
       "      <td>0.074441</td>\n",
       "      <td>-11793.03</td>\n",
       "      <td>383.18</td>\n",
       "      <td>158673.43</td>\n",
       "      <td>40</td>\n",
       "      <td>40</td>\n",
       "      <td>5122</td>\n",
       "      <td>5122</td>\n",
       "      <td>-321</td>\n",
       "      <td>...</td>\n",
       "      <td>0.198633</td>\n",
       "      <td>13</td>\n",
       "      <td>211</td>\n",
       "      <td>2212</td>\n",
       "      <td>-421</td>\n",
       "      <td>521</td>\n",
       "      <td>4122</td>\n",
       "      <td>-423</td>\n",
       "      <td>523</td>\n",
       "      <td>5122</td>\n",
       "    </tr>\n",
       "    <tr>\n",
       "      <th>...</th>\n",
       "      <td>...</td>\n",
       "      <td>...</td>\n",
       "      <td>...</td>\n",
       "      <td>...</td>\n",
       "      <td>...</td>\n",
       "      <td>...</td>\n",
       "      <td>...</td>\n",
       "      <td>...</td>\n",
       "      <td>...</td>\n",
       "      <td>...</td>\n",
       "      <td>...</td>\n",
       "      <td>...</td>\n",
       "      <td>...</td>\n",
       "      <td>...</td>\n",
       "      <td>...</td>\n",
       "      <td>...</td>\n",
       "      <td>...</td>\n",
       "      <td>...</td>\n",
       "      <td>...</td>\n",
       "      <td>...</td>\n",
       "      <td>...</td>\n",
       "    </tr>\n",
       "    <tr>\n",
       "      <th>17911626</th>\n",
       "      <td>39.929890</td>\n",
       "      <td>0.091270</td>\n",
       "      <td>-6689.09</td>\n",
       "      <td>4244.60</td>\n",
       "      <td>127662.10</td>\n",
       "      <td>40</td>\n",
       "      <td>0</td>\n",
       "      <td>-5122</td>\n",
       "      <td>-4122</td>\n",
       "      <td>-13</td>\n",
       "      <td>...</td>\n",
       "      <td>-0.279992</td>\n",
       "      <td>321</td>\n",
       "      <td>-321</td>\n",
       "      <td>-211</td>\n",
       "      <td>323</td>\n",
       "      <td>421</td>\n",
       "      <td>-5222</td>\n",
       "      <td>-5122</td>\n",
       "      <td>423</td>\n",
       "      <td>-5</td>\n",
       "    </tr>\n",
       "    <tr>\n",
       "      <th>17911627</th>\n",
       "      <td>48.690993</td>\n",
       "      <td>0.112676</td>\n",
       "      <td>-6689.09</td>\n",
       "      <td>4244.60</td>\n",
       "      <td>127662.10</td>\n",
       "      <td>40</td>\n",
       "      <td>40</td>\n",
       "      <td>-5122</td>\n",
       "      <td>-5122</td>\n",
       "      <td>321</td>\n",
       "      <td>...</td>\n",
       "      <td>-0.279992</td>\n",
       "      <td>-13</td>\n",
       "      <td>-211</td>\n",
       "      <td>-211</td>\n",
       "      <td>421</td>\n",
       "      <td>-4122</td>\n",
       "      <td>-5222</td>\n",
       "      <td>423</td>\n",
       "      <td>-5122</td>\n",
       "      <td>-5</td>\n",
       "    </tr>\n",
       "    <tr>\n",
       "      <th>17911628</th>\n",
       "      <td>39.709848</td>\n",
       "      <td>0.091411</td>\n",
       "      <td>-6689.09</td>\n",
       "      <td>4244.60</td>\n",
       "      <td>127662.10</td>\n",
       "      <td>40</td>\n",
       "      <td>40</td>\n",
       "      <td>-5122</td>\n",
       "      <td>-5122</td>\n",
       "      <td>321</td>\n",
       "      <td>...</td>\n",
       "      <td>-0.110998</td>\n",
       "      <td>321</td>\n",
       "      <td>-321</td>\n",
       "      <td>-211</td>\n",
       "      <td>323</td>\n",
       "      <td>421</td>\n",
       "      <td>-5222</td>\n",
       "      <td>-5122</td>\n",
       "      <td>423</td>\n",
       "      <td>-5</td>\n",
       "    </tr>\n",
       "    <tr>\n",
       "      <th>17911629</th>\n",
       "      <td>6.649012</td>\n",
       "      <td>0.067311</td>\n",
       "      <td>0.00</td>\n",
       "      <td>0.00</td>\n",
       "      <td>0.00</td>\n",
       "      <td>110</td>\n",
       "      <td>40</td>\n",
       "      <td>0</td>\n",
       "      <td>521</td>\n",
       "      <td>-321</td>\n",
       "      <td>...</td>\n",
       "      <td>-0.040395</td>\n",
       "      <td>211</td>\n",
       "      <td>-321</td>\n",
       "      <td>211</td>\n",
       "      <td>2224</td>\n",
       "      <td>0</td>\n",
       "      <td>0</td>\n",
       "      <td>0</td>\n",
       "      <td>0</td>\n",
       "      <td>0</td>\n",
       "    </tr>\n",
       "    <tr>\n",
       "      <th>17911630</th>\n",
       "      <td>278.993453</td>\n",
       "      <td>0.276164</td>\n",
       "      <td>-5791.90</td>\n",
       "      <td>1865.76</td>\n",
       "      <td>107946.51</td>\n",
       "      <td>40</td>\n",
       "      <td>0</td>\n",
       "      <td>5122</td>\n",
       "      <td>4122</td>\n",
       "      <td>13</td>\n",
       "      <td>...</td>\n",
       "      <td>-0.298236</td>\n",
       "      <td>211</td>\n",
       "      <td>-211</td>\n",
       "      <td>0</td>\n",
       "      <td>113</td>\n",
       "      <td>-411</td>\n",
       "      <td>0</td>\n",
       "      <td>0</td>\n",
       "      <td>521</td>\n",
       "      <td>0</td>\n",
       "    </tr>\n",
       "  </tbody>\n",
       "</table>\n",
       "<p>17911631 rows × 37 columns</p>\n",
       "</div>"
      ],
      "text/plain": [
       "          Lb_IPCHI2_OWNPV  Lb_IP_OWNPV  Lb_TRUEP_X  Lb_TRUEP_Y  Lb_TRUEP_Z  \\\n",
       "0               46.237917     0.133232      861.08    -8949.86    51479.93   \n",
       "1                8.797902     0.045204    -9155.36     2165.33    69458.47   \n",
       "2                7.552060     0.041658    -9155.36     2165.33    69458.47   \n",
       "3               17.848903     0.051664   -11793.03      383.18   158673.43   \n",
       "4               34.358690     0.074441   -11793.03      383.18   158673.43   \n",
       "...                   ...          ...         ...         ...         ...   \n",
       "17911626        39.929890     0.091270    -6689.09     4244.60   127662.10   \n",
       "17911627        48.690993     0.112676    -6689.09     4244.60   127662.10   \n",
       "17911628        39.709848     0.091411    -6689.09     4244.60   127662.10   \n",
       "17911629         6.649012     0.067311        0.00        0.00        0.00   \n",
       "17911630       278.993453     0.276164    -5791.90     1865.76   107946.51   \n",
       "\n",
       "          Lb_BKGCAT  Lc_BKGCAT  Lb_TRUEID  Lc_TRUEID  mu_TRUEID  ...  \\\n",
       "0                40          0       5122       4122         13  ...   \n",
       "1                40          0       5122       4122         13  ...   \n",
       "2                40         40       5122       5122        211  ...   \n",
       "3                40         40       5122       5122       -321  ...   \n",
       "4                40         40       5122       5122       -321  ...   \n",
       "...             ...        ...        ...        ...        ...  ...   \n",
       "17911626         40          0      -5122      -4122        -13  ...   \n",
       "17911627         40         40      -5122      -5122        321  ...   \n",
       "17911628         40         40      -5122      -5122        321  ...   \n",
       "17911629        110         40          0        521       -321  ...   \n",
       "17911630         40          0       5122       4122         13  ...   \n",
       "\n",
       "          Lb_ISOLATION_BDT3  Lb_ISOLATION_TruePID  Lb_ISOLATION_TruePID2  \\\n",
       "0                 -0.538102                  -321                      0   \n",
       "1                 -0.532347                   -13                      0   \n",
       "2                 -0.416917                     0                    -13   \n",
       "3                  0.097560                    13                      0   \n",
       "4                  0.198633                    13                    211   \n",
       "...                     ...                   ...                    ...   \n",
       "17911626          -0.279992                   321                   -321   \n",
       "17911627          -0.279992                   -13                   -211   \n",
       "17911628          -0.110998                   321                   -321   \n",
       "17911629          -0.040395                   211                   -321   \n",
       "17911630          -0.298236                   211                   -211   \n",
       "\n",
       "          Lb_ISOLATION_TruePID3  Lb_ISOLATION_TrueMotherPID  \\\n",
       "0                           211                        5122   \n",
       "1                             0                         521   \n",
       "2                             0                           0   \n",
       "3                           321                        -421   \n",
       "4                          2212                        -421   \n",
       "...                         ...                         ...   \n",
       "17911626                   -211                         323   \n",
       "17911627                   -211                         421   \n",
       "17911628                   -211                         323   \n",
       "17911629                    211                        2224   \n",
       "17911630                      0                         113   \n",
       "\n",
       "          Lb_ISOLATION_TrueMotherPID2  Lb_ISOLATION_TrueMotherPID3  \\\n",
       "0                                   0                          323   \n",
       "1                                   0                            0   \n",
       "2                                 521                            0   \n",
       "3                                   0                         -421   \n",
       "4                                 521                         4122   \n",
       "...                               ...                          ...   \n",
       "17911626                          421                        -5222   \n",
       "17911627                        -4122                        -5222   \n",
       "17911628                          421                        -5222   \n",
       "17911629                            0                            0   \n",
       "17911630                         -411                            0   \n",
       "\n",
       "          Lb_ISOLATION_TrueGrandmotherPID  Lb_ISOLATION_TrueGrandmotherPID2  \\\n",
       "0                                    5214                                 0   \n",
       "1                                     523                                 0   \n",
       "2                                       0                               523   \n",
       "3                                    -423                                 0   \n",
       "4                                    -423                               523   \n",
       "...                                   ...                               ...   \n",
       "17911626                            -5122                               423   \n",
       "17911627                              423                             -5122   \n",
       "17911628                            -5122                               423   \n",
       "17911629                                0                                 0   \n",
       "17911630                                0                               521   \n",
       "\n",
       "          Lb_ISOLATION_TrueGrandmotherPID3  \n",
       "0                                        0  \n",
       "1                                        0  \n",
       "2                                        0  \n",
       "3                                     -423  \n",
       "4                                     5122  \n",
       "...                                    ...  \n",
       "17911626                                -5  \n",
       "17911627                                -5  \n",
       "17911628                                -5  \n",
       "17911629                                 0  \n",
       "17911630                                 0  \n",
       "\n",
       "[17911631 rows x 37 columns]"
      ]
     },
     "execution_count": 6,
     "metadata": {},
     "output_type": "execute_result"
    }
   ],
   "source": [
    "df"
   ]
  },
  {
   "cell_type": "code",
   "execution_count": 7,
   "id": "a3518716",
   "metadata": {},
   "outputs": [
    {
     "data": {
      "image/png": "[encoded data removed]",
      "text/plain": [
       "<Figure size 720x720 with 1 Axes>"
      ]
     },
     "metadata": {
      "needs_background": "light"
     },
     "output_type": "display_data"
    }
   ],
   "source": [
    "df1 = df[['Lb_ISOLATION_BDT','Lb_ISOLATION_BDT2','Lb_ISOLATION_BDT3']]\n",
    "ax = df1.plot.hist(alpha=0.5, figsize=(10,10),bins=10, title = \"Lb_ISOLATION_BDT VS BDT2 and 3\")"
   ]
  },
  {
   "cell_type": "code",
   "execution_count": 8,
   "id": "14772a61",
   "metadata": {},
   "outputs": [],
   "source": [
    "dfp = tpresel.arrays(library='pd')"
   ]
  },
  {
   "cell_type": "code",
   "execution_count": 9,
   "id": "1367dfdc",
   "metadata": {},
   "outputs": [
    {
     "data": {
      "text/html": [
       "<div>\n",
       "<style scoped>\n",
       "    .dataframe tbody tr th:only-of-type {\n",
       "        vertical-align: middle;\n",
       "    }\n",
       "\n",
       "    .dataframe tbody tr th {\n",
       "        vertical-align: top;\n",
       "    }\n",
       "\n",
       "    .dataframe thead th {\n",
       "        text-align: right;\n",
       "    }\n",
       "</style>\n",
       "<table border=\"1\" class=\"dataframe\">\n",
       "  <thead>\n",
       "    <tr style=\"text-align: right;\">\n",
       "      <th></th>\n",
       "      <th>TruthMatch</th>\n",
       "      <th>MoreHLT2Sel</th>\n",
       "      <th>L0</th>\n",
       "      <th>HLT1</th>\n",
       "      <th>Trigger</th>\n",
       "      <th>LcMass</th>\n",
       "      <th>PIDCalib</th>\n",
       "      <th>Preselection</th>\n",
       "      <th>PassBDT</th>\n",
       "      <th>FinalSel</th>\n",
       "      <th>isKenriched</th>\n",
       "      <th>isIsolated</th>\n",
       "      <th>isLcpipi</th>\n",
       "      <th>w_LbCorr</th>\n",
       "      <th>Event_FFcorr</th>\n",
       "    </tr>\n",
       "  </thead>\n",
       "  <tbody>\n",
       "    <tr>\n",
       "      <th>0</th>\n",
       "      <td>True</td>\n",
       "      <td>True</td>\n",
       "      <td>False</td>\n",
       "      <td>True</td>\n",
       "      <td>False</td>\n",
       "      <td>True</td>\n",
       "      <td>True</td>\n",
       "      <td>False</td>\n",
       "      <td>True</td>\n",
       "      <td>False</td>\n",
       "      <td>False</td>\n",
       "      <td>True</td>\n",
       "      <td>False</td>\n",
       "      <td>0.801175</td>\n",
       "      <td>0.975051</td>\n",
       "    </tr>\n",
       "    <tr>\n",
       "      <th>1</th>\n",
       "      <td>False</td>\n",
       "      <td>True</td>\n",
       "      <td>False</td>\n",
       "      <td>True</td>\n",
       "      <td>False</td>\n",
       "      <td>True</td>\n",
       "      <td>True</td>\n",
       "      <td>False</td>\n",
       "      <td>True</td>\n",
       "      <td>False</td>\n",
       "      <td>False</td>\n",
       "      <td>True</td>\n",
       "      <td>False</td>\n",
       "      <td>0.000000</td>\n",
       "      <td>0.000000</td>\n",
       "    </tr>\n",
       "    <tr>\n",
       "      <th>2</th>\n",
       "      <td>True</td>\n",
       "      <td>False</td>\n",
       "      <td>False</td>\n",
       "      <td>True</td>\n",
       "      <td>False</td>\n",
       "      <td>True</td>\n",
       "      <td>True</td>\n",
       "      <td>False</td>\n",
       "      <td>True</td>\n",
       "      <td>False</td>\n",
       "      <td>False</td>\n",
       "      <td>True</td>\n",
       "      <td>False</td>\n",
       "      <td>1.580978</td>\n",
       "      <td>0.963524</td>\n",
       "    </tr>\n",
       "    <tr>\n",
       "      <th>3</th>\n",
       "      <td>True</td>\n",
       "      <td>False</td>\n",
       "      <td>False</td>\n",
       "      <td>True</td>\n",
       "      <td>False</td>\n",
       "      <td>True</td>\n",
       "      <td>True</td>\n",
       "      <td>False</td>\n",
       "      <td>True</td>\n",
       "      <td>False</td>\n",
       "      <td>False</td>\n",
       "      <td>True</td>\n",
       "      <td>False</td>\n",
       "      <td>1.108694</td>\n",
       "      <td>1.136428</td>\n",
       "    </tr>\n",
       "    <tr>\n",
       "      <th>4</th>\n",
       "      <td>False</td>\n",
       "      <td>True</td>\n",
       "      <td>False</td>\n",
       "      <td>True</td>\n",
       "      <td>False</td>\n",
       "      <td>False</td>\n",
       "      <td>True</td>\n",
       "      <td>False</td>\n",
       "      <td>False</td>\n",
       "      <td>False</td>\n",
       "      <td>False</td>\n",
       "      <td>True</td>\n",
       "      <td>False</td>\n",
       "      <td>0.000000</td>\n",
       "      <td>0.000000</td>\n",
       "    </tr>\n",
       "  </tbody>\n",
       "</table>\n",
       "</div>"
      ],
      "text/plain": [
       "   TruthMatch  MoreHLT2Sel     L0  HLT1  Trigger  LcMass  PIDCalib  \\\n",
       "0        True         True  False  True    False    True      True   \n",
       "1       False         True  False  True    False    True      True   \n",
       "2        True        False  False  True    False    True      True   \n",
       "3        True        False  False  True    False    True      True   \n",
       "4       False         True  False  True    False   False      True   \n",
       "\n",
       "   Preselection  PassBDT  FinalSel  isKenriched  isIsolated  isLcpipi  \\\n",
       "0         False     True     False        False        True     False   \n",
       "1         False     True     False        False        True     False   \n",
       "2         False     True     False        False        True     False   \n",
       "3         False     True     False        False        True     False   \n",
       "4         False    False     False        False        True     False   \n",
       "\n",
       "   w_LbCorr  Event_FFcorr  \n",
       "0  0.801175      0.975051  \n",
       "1  0.000000      0.000000  \n",
       "2  1.580978      0.963524  \n",
       "3  1.108694      1.136428  \n",
       "4  0.000000      0.000000  "
      ]
     },
     "execution_count": 9,
     "metadata": {},
     "output_type": "execute_result"
    }
   ],
   "source": [
    "dfp.head()"
   ]
  },
  {
   "cell_type": "code",
   "execution_count": 10,
   "id": "f07ac42f",
   "metadata": {},
   "outputs": [
    {
     "data": {
      "text/html": [
       "<div>\n",
       "<style scoped>\n",
       "    .dataframe tbody tr th:only-of-type {\n",
       "        vertical-align: middle;\n",
       "    }\n",
       "\n",
       "    .dataframe tbody tr th {\n",
       "        vertical-align: top;\n",
       "    }\n",
       "\n",
       "    .dataframe thead th {\n",
       "        text-align: right;\n",
       "    }\n",
       "</style>\n",
       "<table border=\"1\" class=\"dataframe\">\n",
       "  <thead>\n",
       "    <tr style=\"text-align: right;\">\n",
       "      <th></th>\n",
       "      <th>Lb_IPCHI2_OWNPV</th>\n",
       "      <th>Lb_IP_OWNPV</th>\n",
       "      <th>Lb_TRUEP_X</th>\n",
       "      <th>Lb_TRUEP_Y</th>\n",
       "      <th>Lb_TRUEP_Z</th>\n",
       "      <th>Lb_BKGCAT</th>\n",
       "      <th>Lc_BKGCAT</th>\n",
       "      <th>Lb_TRUEID</th>\n",
       "      <th>Lc_TRUEID</th>\n",
       "      <th>mu_TRUEID</th>\n",
       "      <th>...</th>\n",
       "      <th>LcMass</th>\n",
       "      <th>PIDCalib</th>\n",
       "      <th>Preselection</th>\n",
       "      <th>PassBDT</th>\n",
       "      <th>FinalSel</th>\n",
       "      <th>isKenriched</th>\n",
       "      <th>isIsolated</th>\n",
       "      <th>isLcpipi</th>\n",
       "      <th>w_LbCorr</th>\n",
       "      <th>Event_FFcorr</th>\n",
       "    </tr>\n",
       "  </thead>\n",
       "  <tbody>\n",
       "    <tr>\n",
       "      <th>0</th>\n",
       "      <td>46.237917</td>\n",
       "      <td>0.133232</td>\n",
       "      <td>861.08</td>\n",
       "      <td>-8949.86</td>\n",
       "      <td>51479.93</td>\n",
       "      <td>40</td>\n",
       "      <td>0</td>\n",
       "      <td>5122</td>\n",
       "      <td>4122</td>\n",
       "      <td>13</td>\n",
       "      <td>...</td>\n",
       "      <td>True</td>\n",
       "      <td>True</td>\n",
       "      <td>False</td>\n",
       "      <td>True</td>\n",
       "      <td>False</td>\n",
       "      <td>False</td>\n",
       "      <td>True</td>\n",
       "      <td>False</td>\n",
       "      <td>0.801175</td>\n",
       "      <td>0.975051</td>\n",
       "    </tr>\n",
       "    <tr>\n",
       "      <th>1</th>\n",
       "      <td>8.797902</td>\n",
       "      <td>0.045204</td>\n",
       "      <td>-9155.36</td>\n",
       "      <td>2165.33</td>\n",
       "      <td>69458.47</td>\n",
       "      <td>40</td>\n",
       "      <td>0</td>\n",
       "      <td>5122</td>\n",
       "      <td>4122</td>\n",
       "      <td>13</td>\n",
       "      <td>...</td>\n",
       "      <td>True</td>\n",
       "      <td>True</td>\n",
       "      <td>False</td>\n",
       "      <td>True</td>\n",
       "      <td>False</td>\n",
       "      <td>False</td>\n",
       "      <td>True</td>\n",
       "      <td>False</td>\n",
       "      <td>0.000000</td>\n",
       "      <td>0.000000</td>\n",
       "    </tr>\n",
       "    <tr>\n",
       "      <th>2</th>\n",
       "      <td>7.552060</td>\n",
       "      <td>0.041658</td>\n",
       "      <td>-9155.36</td>\n",
       "      <td>2165.33</td>\n",
       "      <td>69458.47</td>\n",
       "      <td>40</td>\n",
       "      <td>40</td>\n",
       "      <td>5122</td>\n",
       "      <td>5122</td>\n",
       "      <td>211</td>\n",
       "      <td>...</td>\n",
       "      <td>True</td>\n",
       "      <td>True</td>\n",
       "      <td>False</td>\n",
       "      <td>True</td>\n",
       "      <td>False</td>\n",
       "      <td>False</td>\n",
       "      <td>True</td>\n",
       "      <td>False</td>\n",
       "      <td>1.580978</td>\n",
       "      <td>0.963524</td>\n",
       "    </tr>\n",
       "    <tr>\n",
       "      <th>3</th>\n",
       "      <td>17.848903</td>\n",
       "      <td>0.051664</td>\n",
       "      <td>-11793.03</td>\n",
       "      <td>383.18</td>\n",
       "      <td>158673.43</td>\n",
       "      <td>40</td>\n",
       "      <td>40</td>\n",
       "      <td>5122</td>\n",
       "      <td>5122</td>\n",
       "      <td>-321</td>\n",
       "      <td>...</td>\n",
       "      <td>True</td>\n",
       "      <td>True</td>\n",
       "      <td>False</td>\n",
       "      <td>True</td>\n",
       "      <td>False</td>\n",
       "      <td>False</td>\n",
       "      <td>True</td>\n",
       "      <td>False</td>\n",
       "      <td>1.108694</td>\n",
       "      <td>1.136428</td>\n",
       "    </tr>\n",
       "    <tr>\n",
       "      <th>4</th>\n",
       "      <td>34.358690</td>\n",
       "      <td>0.074441</td>\n",
       "      <td>-11793.03</td>\n",
       "      <td>383.18</td>\n",
       "      <td>158673.43</td>\n",
       "      <td>40</td>\n",
       "      <td>40</td>\n",
       "      <td>5122</td>\n",
       "      <td>5122</td>\n",
       "      <td>-321</td>\n",
       "      <td>...</td>\n",
       "      <td>False</td>\n",
       "      <td>True</td>\n",
       "      <td>False</td>\n",
       "      <td>False</td>\n",
       "      <td>False</td>\n",
       "      <td>False</td>\n",
       "      <td>True</td>\n",
       "      <td>False</td>\n",
       "      <td>0.000000</td>\n",
       "      <td>0.000000</td>\n",
       "    </tr>\n",
       "  </tbody>\n",
       "</table>\n",
       "<p>5 rows × 52 columns</p>\n",
       "</div>"
      ],
      "text/plain": [
       "   Lb_IPCHI2_OWNPV  Lb_IP_OWNPV  Lb_TRUEP_X  Lb_TRUEP_Y  Lb_TRUEP_Z  \\\n",
       "0        46.237917     0.133232      861.08    -8949.86    51479.93   \n",
       "1         8.797902     0.045204    -9155.36     2165.33    69458.47   \n",
       "2         7.552060     0.041658    -9155.36     2165.33    69458.47   \n",
       "3        17.848903     0.051664   -11793.03      383.18   158673.43   \n",
       "4        34.358690     0.074441   -11793.03      383.18   158673.43   \n",
       "\n",
       "   Lb_BKGCAT  Lc_BKGCAT  Lb_TRUEID  Lc_TRUEID  mu_TRUEID  ...  LcMass  \\\n",
       "0         40          0       5122       4122         13  ...    True   \n",
       "1         40          0       5122       4122         13  ...    True   \n",
       "2         40         40       5122       5122        211  ...    True   \n",
       "3         40         40       5122       5122       -321  ...    True   \n",
       "4         40         40       5122       5122       -321  ...   False   \n",
       "\n",
       "   PIDCalib  Preselection  PassBDT  FinalSel  isKenriched  isIsolated  \\\n",
       "0      True         False     True     False        False        True   \n",
       "1      True         False     True     False        False        True   \n",
       "2      True         False     True     False        False        True   \n",
       "3      True         False     True     False        False        True   \n",
       "4      True         False    False     False        False        True   \n",
       "\n",
       "   isLcpipi  w_LbCorr  Event_FFcorr  \n",
       "0     False  0.801175      0.975051  \n",
       "1     False  0.000000      0.000000  \n",
       "2     False  1.580978      0.963524  \n",
       "3     False  1.108694      1.136428  \n",
       "4     False  0.000000      0.000000  \n",
       "\n",
       "[5 rows x 52 columns]"
      ]
     },
     "execution_count": 10,
     "metadata": {},
     "output_type": "execute_result"
    }
   ],
   "source": [
    "dft = pd.concat([df, dfp], axis=1, join='inner')\n",
    "dft.head()"
   ]
  },
  {
   "cell_type": "code",
   "execution_count": 11,
   "id": "01f0ca27",
   "metadata": {},
   "outputs": [
    {
     "data": {
      "image/png": "[encoded data removed]",
      "text/plain": [
       "<Figure size 720x720 with 1 Axes>"
      ]
     },
     "metadata": {
      "needs_background": "light"
     },
     "output_type": "display_data"
    }
   ],
   "source": [
    "#Apply truth match\n",
    "df1 = dft.loc[dft.TruthMatch]\n",
    "df1 = df1[['Lb_ISOLATION_BDT','Lb_ISOLATION_BDT2','Lb_ISOLATION_BDT3']]\n",
    "ax = df1.plot.hist(alpha=0.5, figsize=(10,10),bins=10, title = \"Lb_ISOLATION_BDT VS BDT2 and 3\")"
   ]
  },
  {
   "cell_type": "code",
   "execution_count": 12,
   "id": "93f1a4db",
   "metadata": {},
   "outputs": [
    {
     "data": {
      "text/plain": [
       "(12030403, 3)"
      ]
     },
     "execution_count": 12,
     "metadata": {},
     "output_type": "execute_result"
    }
   ],
   "source": [
    "df1.shape"
   ]
  },
  {
   "cell_type": "code",
   "execution_count": 13,
   "id": "3ae12712",
   "metadata": {},
   "outputs": [
    {
     "data": {
      "text/plain": [
       "(17911631, 52)"
      ]
     },
     "execution_count": 13,
     "metadata": {},
     "output_type": "execute_result"
    }
   ],
   "source": [
    "dft.shape"
   ]
  },
  {
   "cell_type": "code",
   "execution_count": 14,
   "id": "cb5f0265",
   "metadata": {},
   "outputs": [
    {
     "data": {
      "image/png": "[encoded data removed]",
      "text/plain": [
       "<Figure size 720x720 with 1 Axes>"
      ]
     },
     "metadata": {
      "needs_background": "light"
     },
     "output_type": "display_data"
    }
   ],
   "source": [
    "#Apply all preselection steps (truth match, trigger, lc mass, bdt)\n",
    "df2 = dft.loc[dft.Preselection]\n",
    "df2a = df2[['Lb_ISOLATION_BDT','Lb_ISOLATION_BDT2','Lb_ISOLATION_BDT3']]\n",
    "ax = df2a.plot.hist(alpha=0.5, figsize=(10,10),bins=10, title = \"Lb_ISOLATION_BDT VS BDT2 and 3\")"
   ]
  },
  {
   "cell_type": "code",
   "execution_count": 15,
   "id": "cd4edc14",
   "metadata": {},
   "outputs": [],
   "source": [
    "df2.shape\n",
    "df2b = df2[df2['Lb_ISOLATION_TrueMotherPID']!=0]\n",
    "df2b = df2b[df2b['Lb_ISOLATION_TrueMotherPID']<400]"
   ]
  },
  {
   "cell_type": "code",
   "execution_count": 16,
   "id": "4a85d3c2",
   "metadata": {},
   "outputs": [
    {
     "data": {
      "text/plain": [
       "18            15\n",
       "21           221\n",
       "44           223\n",
       "45            22\n",
       "47           313\n",
       "            ... \n",
       "17911603    -313\n",
       "17911610   -4122\n",
       "17911612     113\n",
       "17911621     323\n",
       "17911628     323\n",
       "Name: Lb_ISOLATION_TrueMotherPID, Length: 1952939, dtype: int32"
      ]
     },
     "execution_count": 16,
     "metadata": {},
     "output_type": "execute_result"
    }
   ],
   "source": [
    "df2b['Lb_ISOLATION_TrueMotherPID']"
   ]
  },
  {
   "cell_type": "code",
   "execution_count": 17,
   "id": "2185f7a8",
   "metadata": {},
   "outputs": [
    {
     "data": {
      "text/plain": [
       "<AxesSubplot:title={'center':'TrueMotherID'}, ylabel='Frequency'>"
      ]
     },
     "execution_count": 17,
     "metadata": {},
     "output_type": "execute_result"
    },
    {
     "data": {
      "image/png": "[encoded data removed]",
      "text/plain": [
       "<Figure size 720x720 with 1 Axes>"
      ]
     },
     "metadata": {
      "needs_background": "light"
     },
     "output_type": "display_data"
    }
   ],
   "source": [
    "abs(df2b['Lb_ISOLATION_TrueMotherPID']).plot.hist(alpha=0.5, range=(0,500), bins=500, figsize=(10,10), title = \"TrueMotherID\")"
   ]
  },
  {
   "cell_type": "code",
   "execution_count": 18,
   "id": "83bf71d9",
   "metadata": {},
   "outputs": [
    {
     "name": "stdout",
     "output_type": "stream",
     "text": [
      "830354 3956851 20.985222845136196\n"
     ]
    },
    {
     "data": {
      "image/png": "[encoded data removed]",
      "text/plain": [
       "<Figure size 432x288 with 1 Axes>"
      ]
     },
     "metadata": {
      "needs_background": "light"
     },
     "output_type": "display_data"
    }
   ],
   "source": [
    "#number of particles with TruePID=0\n",
    "n_PID_0 = df2[df2['Lb_ISOLATION_TruePID']==0].shape[0]\n",
    "print(n_PID_0,df2.shape[0],(n_PID_0/df2.shape[0])*100)\n",
    "x = df2.loc[df2['Lb_ISOLATION_TruePID']==0]\n",
    "y = df2.loc[df2['Lb_ISOLATION_TruePID']!=0]\n",
    "plt.hist(y['Lb_ISOLATION_BDT'], bins=20, label = 'TruePID!=0')\n",
    "plt.hist(x['Lb_ISOLATION_BDT'], bins=20, label = 'TruePID=0')\n",
    "plt.legend()\n",
    "plt.show()"
   ]
  },
  {
   "cell_type": "code",
   "execution_count": 19,
   "id": "2decd385",
   "metadata": {},
   "outputs": [
    {
     "name": "stdout",
     "output_type": "stream",
     "text": [
      "1202774 3956851 30.397252764888037\n"
     ]
    },
    {
     "data": {
      "image/png": "[encoded data removed]",
      "text/plain": [
       "<Figure size 432x288 with 1 Axes>"
      ]
     },
     "metadata": {
      "needs_background": "light"
     },
     "output_type": "display_data"
    }
   ],
   "source": [
    "#number of particles with TruePID2=0\n",
    "n_PID2_0 = df2[df2['Lb_ISOLATION_TruePID2']==0].shape[0]\n",
    "print(n_PID2_0,df2.shape[0],(n_PID2_0/df2.shape[0])*100)\n",
    "x2 = df2.loc[df2['Lb_ISOLATION_TruePID2']==0]\n",
    "y2 = df2.loc[df2['Lb_ISOLATION_TruePID2']!=0]\n",
    "plt.hist(y2['Lb_ISOLATION_BDT2'],bins=20, label = 'TruePID!=0')\n",
    "plt.hist(x2['Lb_ISOLATION_BDT2'],bins=20, label = 'TruePID=0')\n",
    "plt.legend()\n",
    "plt.show()"
   ]
  },
  {
   "cell_type": "code",
   "execution_count": 20,
   "id": "c9701053",
   "metadata": {},
   "outputs": [
    {
     "name": "stdout",
     "output_type": "stream",
     "text": [
      "1819426 3956851 45.981665723576654\n"
     ]
    },
    {
     "data": {
      "image/png": "[encoded data removed]",
      "text/plain": [
       "<Figure size 432x288 with 1 Axes>"
      ]
     },
     "metadata": {
      "needs_background": "light"
     },
     "output_type": "display_data"
    }
   ],
   "source": [
    "#number of particles with TruePID3=0\n",
    "n_PID3_0 = df2[df2['Lb_ISOLATION_TruePID3']==0].shape[0]\n",
    "print(n_PID3_0,df2.shape[0],(n_PID3_0/df2.shape[0])*100)\n",
    "x3 = df2.loc[df2['Lb_ISOLATION_TruePID3']==0]\n",
    "y3 = df2.loc[df2['Lb_ISOLATION_TruePID3']!=0]\n",
    "plt.hist(y3['Lb_ISOLATION_BDT3'], bins=20, label = 'TruePID!=0')\n",
    "plt.hist(x3['Lb_ISOLATION_BDT3'], bins=20, label = 'TruePID=0')\n",
    "plt.legend()\n",
    "plt.show()"
   ]
  },
  {
   "cell_type": "markdown",
   "id": "49499317",
   "metadata": {},
   "source": [
    "#### Look at Fit variables in Isolated region eliminating particles with PID=0"
   ]
  },
  {
   "cell_type": "markdown",
   "id": "6279d0eb",
   "metadata": {},
   "source": [
    "Create isolated dataframes with cut Lb_ISOLATION_BDT>0.35"
   ]
  },
  {
   "cell_type": "code",
   "execution_count": 21,
   "id": "6339a1c7",
   "metadata": {},
   "outputs": [],
   "source": [
    "df2iso = df2.loc[df2['Lb_ISOLATION_BDT']>0.35]\n",
    "x = df2iso.loc[df2iso['Lb_ISOLATION_TruePID']==0]\n",
    "y = df2iso.loc[df2iso['Lb_ISOLATION_TruePID']!=0]"
   ]
  },
  {
   "cell_type": "code",
   "execution_count": 22,
   "id": "27147325",
   "metadata": {
    "scrolled": true
   },
   "outputs": [
    {
     "data": {
      "image/png": "[encoded data removed]",
      "text/plain": [
       "<Figure size 432x288 with 1 Axes>"
      ]
     },
     "metadata": {
      "needs_background": "light"
     },
     "output_type": "display_data"
    }
   ],
   "source": [
    "plt.hist(df2iso[GetName('q2')], bins=20, range=(-2e6,14e6), label = 'Full')\n",
    "plt.hist(y[GetName('q2')], bins=20, range=(-2e6,14e6),label = 'TruePID!=0')\n",
    "plt.hist(x[GetName('q2')], bins=20, range=(-2e6,14e6), label = 'TruePID=0')\n",
    "plt.legend()\n",
    "plt.show()"
   ]
  },
  {
   "cell_type": "code",
   "execution_count": 23,
   "id": "97534870",
   "metadata": {},
   "outputs": [
    {
     "data": {
      "image/png": "[encoded data removed]",
      "text/plain": [
       "<Figure size 432x288 with 1 Axes>"
      ]
     },
     "metadata": {
      "needs_background": "light"
     },
     "output_type": "display_data"
    }
   ],
   "source": [
    "plt.hist(df2iso[GetName('El')], bins=20, range=(0,2500), label = 'Full')\n",
    "plt.hist(y[GetName('El')], bins=20, range=(0,2500),label = 'TruePID!=0')\n",
    "plt.hist(x[GetName('El')], bins=20, range=(0,2500), label = 'TruePID=0')\n",
    "plt.legend()\n",
    "plt.show()"
   ]
  },
  {
   "cell_type": "code",
   "execution_count": 24,
   "id": "dc28e863",
   "metadata": {},
   "outputs": [
    {
     "data": {
      "image/png": "[encoded data removed]",
      "text/plain": [
       "<Figure size 432x288 with 1 Axes>"
      ]
     },
     "metadata": {
      "needs_background": "light"
     },
     "output_type": "display_data"
    }
   ],
   "source": [
    "plt.hist(df2iso[GetName('MM')], bins=20, range=(-2e6,14e6), label = 'Full')\n",
    "plt.hist(y[GetName('MM')], bins=20, range=(-2e6,14e6),label = 'TruePID!=0')\n",
    "plt.hist(x[GetName('MM')], bins=20, range=(-2e6,14e6), label = 'TruePID=0')\n",
    "plt.legend()\n",
    "plt.show()"
   ]
  },
  {
   "cell_type": "markdown",
   "id": "374338d2",
   "metadata": {},
   "source": [
    "#### Look at the anti-isolated region\n",
    "\n",
    "I am currently onlu selecting the opposite of the isolated one, not placing any requirement on the particles of the decay"
   ]
  },
  {
   "cell_type": "code",
   "execution_count": 25,
   "id": "dd16a963",
   "metadata": {},
   "outputs": [],
   "source": [
    "df2aiso = df2.loc[df2['Lb_ISOLATION_BDT']<0.35]\n",
    "x = df2aiso.loc[df2aiso['Lb_ISOLATION_TruePID']==0]\n",
    "y = df2aiso.loc[df2aiso['Lb_ISOLATION_TruePID']!=0]"
   ]
  },
  {
   "cell_type": "code",
   "execution_count": 26,
   "id": "0d381c0f",
   "metadata": {},
   "outputs": [
    {
     "data": {
      "image/png": "[encoded data removed]",
      "text/plain": [
       "<Figure size 432x288 with 1 Axes>"
      ]
     },
     "metadata": {
      "needs_background": "light"
     },
     "output_type": "display_data"
    }
   ],
   "source": [
    "plt.hist(x['Lb_ISOLATION_BDT'], bins=20, label = 'TruePID=0')\n",
    "plt.hist(y['Lb_ISOLATION_BDT'], alpha=0.7, bins=20, label = 'TruePID!=0')\n",
    "plt.legend()\n",
    "plt.show()"
   ]
  },
  {
   "cell_type": "code",
   "execution_count": 27,
   "id": "34e6b8a9",
   "metadata": {},
   "outputs": [
    {
     "data": {
      "image/png": "[encoded data removed]",
      "text/plain": [
       "<Figure size 432x288 with 1 Axes>"
      ]
     },
     "metadata": {
      "needs_background": "light"
     },
     "output_type": "display_data"
    }
   ],
   "source": [
    "plt.hist(df2aiso[GetName('q2')], bins=20, range=(-2e6,14e6), label = 'Full')\n",
    "plt.hist(y[GetName('q2')], bins=20, range=(-2e6,14e6),label = 'TruePID!=0')\n",
    "plt.hist(x[GetName('q2')], bins=20, range=(-2e6,14e6), label = 'TruePID=0')\n",
    "plt.legend()\n",
    "plt.show()"
   ]
  },
  {
   "cell_type": "code",
   "execution_count": 28,
   "id": "130234c3",
   "metadata": {},
   "outputs": [
    {
     "data": {
      "image/png": "[encoded data removed]",
      "text/plain": [
       "<Figure size 432x288 with 1 Axes>"
      ]
     },
     "metadata": {
      "needs_background": "light"
     },
     "output_type": "display_data"
    }
   ],
   "source": [
    "plt.hist(df2aiso[GetName('El')], bins=20, range=(0,2500), label = 'Full')\n",
    "plt.hist(y[GetName('El')], bins=20, range=(0,2500),label = 'TruePID!=0')\n",
    "plt.hist(x[GetName('El')], bins=20, range=(0,2500), label = 'TruePID=0')\n",
    "plt.legend()\n",
    "plt.show()"
   ]
  },
  {
   "cell_type": "code",
   "execution_count": 29,
   "id": "8de621bd",
   "metadata": {},
   "outputs": [
    {
     "data": {
      "image/png": "[encoded data removed]",
      "text/plain": [
       "<Figure size 432x288 with 1 Axes>"
      ]
     },
     "metadata": {
      "needs_background": "light"
     },
     "output_type": "display_data"
    }
   ],
   "source": [
    "plt.hist(df2aiso[GetName('MM')], bins=20, range=(-2e6,14e6), label = 'Full')\n",
    "plt.hist(y[GetName('MM')], bins=20, range=(-2e6,14e6),label = 'TruePID!=0')\n",
    "plt.hist(x[GetName('MM')], bins=20, range=(-2e6,14e6), label = 'TruePID=0')\n",
    "plt.legend()\n",
    "plt.show()"
   ]
  },
  {
   "cell_type": "markdown",
   "id": "c33bc131",
   "metadata": {},
   "source": [
    "### Try to study particle decays in the anti-isolated region"
   ]
  },
  {
   "cell_type": "markdown",
   "id": "ee53a0e8",
   "metadata": {},
   "source": [
    "First of all, eliminate all particles with TruePID (1,2 or 3) equal to 0"
   ]
  },
  {
   "cell_type": "code",
   "execution_count": 30,
   "id": "f47ae52b",
   "metadata": {},
   "outputs": [],
   "source": [
    "df3 = df2aiso.loc[(df2aiso['Lb_ISOLATION_TruePID']!=0)&(df2aiso['Lb_ISOLATION_TruePID2']!=0)&\n",
    "                 (df2aiso['Lb_ISOLATION_TruePID3']!=0)]"
   ]
  },
  {
   "cell_type": "code",
   "execution_count": 31,
   "id": "c9253b1f",
   "metadata": {},
   "outputs": [
    {
     "name": "stdout",
     "output_type": "stream",
     "text": [
      "N anti-iso events before requirement on True PIDs:  1418040\n",
      "N anti-iso events after requirement on True PIDs:  318549\n"
     ]
    }
   ],
   "source": [
    "print('N anti-iso events before requirement on True PIDs: ', df2aiso.shape[0])\n",
    "print('N anti-iso events after requirement on True PIDs: ', df3.shape[0])"
   ]
  },
  {
   "cell_type": "markdown",
   "id": "59c80495",
   "metadata": {},
   "source": [
    "Let's require one of the three anti-isolated particles to have a K pdg code"
   ]
  },
  {
   "cell_type": "code",
   "execution_count": 32,
   "id": "984d17db",
   "metadata": {},
   "outputs": [],
   "source": [
    "PDGKaons = [130,310,311,321,313,323]\n",
    "def SelectKaons(var, PDGKaons):\n",
    "    print(var)\n",
    "    for pdg in PDGKaons:\n",
    "        if var==pdg:\n",
    "            return True\n",
    "        else:\n",
    "            return False"
   ]
  },
  {
   "cell_type": "code",
   "execution_count": 33,
   "id": "fc095e58",
   "metadata": {},
   "outputs": [
    {
     "name": "stdout",
     "output_type": "stream",
     "text": [
      "44          211\n",
      "45           11\n",
      "94          211\n",
      "199        -211\n",
      "200        -211\n",
      "           ... \n",
      "17911354   -211\n",
      "17911370    211\n",
      "17911497    211\n",
      "17911525    321\n",
      "17911603   -321\n",
      "Name: Lb_ISOLATION_TruePID, Length: 318549, dtype: int32\n"
     ]
    },
    {
     "ename": "ValueError",
     "evalue": "The truth value of a Series is ambiguous. Use a.empty, a.bool(), a.item(), a.any() or a.all().",
     "output_type": "error",
     "traceback": [
      "\u001b[0;31m---------------------------------------------------------------------------\u001b[0m",
      "\u001b[0;31mValueError\u001b[0m                                Traceback (most recent call last)",
      "\u001b[0;32m<ipython-input-33-fc68cfd15004>\u001b[0m in \u001b[0;36m<module>\u001b[0;34m\u001b[0m\n\u001b[0;32m----> 1\u001b[0;31m \u001b[0mk1\u001b[0m \u001b[0;34m=\u001b[0m \u001b[0mdf3\u001b[0m\u001b[0;34m.\u001b[0m\u001b[0mloc\u001b[0m\u001b[0;34m[\u001b[0m\u001b[0mSelectKaons\u001b[0m\u001b[0;34m(\u001b[0m\u001b[0mdf3\u001b[0m\u001b[0;34m.\u001b[0m\u001b[0mLb_ISOLATION_TruePID\u001b[0m\u001b[0;34m,\u001b[0m \u001b[0mPDGKaons\u001b[0m\u001b[0;34m)\u001b[0m\u001b[0;34m]\u001b[0m\u001b[0;34m\u001b[0m\u001b[0;34m\u001b[0m\u001b[0m\n\u001b[0m\u001b[1;32m      2\u001b[0m \u001b[0mk1\u001b[0m\u001b[0;34m.\u001b[0m\u001b[0mshape\u001b[0m\u001b[0;34m[\u001b[0m\u001b[0;36m0\u001b[0m\u001b[0;34m]\u001b[0m\u001b[0;34m\u001b[0m\u001b[0;34m\u001b[0m\u001b[0m\n",
      "\u001b[0;32m<ipython-input-32-fa9cabf919f3>\u001b[0m in \u001b[0;36mSelectKaons\u001b[0;34m(var, PDGKaons)\u001b[0m\n\u001b[1;32m      3\u001b[0m     \u001b[0mprint\u001b[0m\u001b[0;34m(\u001b[0m\u001b[0mvar\u001b[0m\u001b[0;34m)\u001b[0m\u001b[0;34m\u001b[0m\u001b[0;34m\u001b[0m\u001b[0m\n\u001b[1;32m      4\u001b[0m     \u001b[0;32mfor\u001b[0m \u001b[0mpdg\u001b[0m \u001b[0;32min\u001b[0m \u001b[0mPDGKaons\u001b[0m\u001b[0;34m:\u001b[0m\u001b[0;34m\u001b[0m\u001b[0;34m\u001b[0m\u001b[0m\n\u001b[0;32m----> 5\u001b[0;31m         \u001b[0;32mif\u001b[0m \u001b[0mvar\u001b[0m\u001b[0;34m==\u001b[0m\u001b[0mpdg\u001b[0m\u001b[0;34m:\u001b[0m\u001b[0;34m\u001b[0m\u001b[0;34m\u001b[0m\u001b[0m\n\u001b[0m\u001b[1;32m      6\u001b[0m             \u001b[0;32mreturn\u001b[0m \u001b[0;32mTrue\u001b[0m\u001b[0;34m\u001b[0m\u001b[0;34m\u001b[0m\u001b[0m\n\u001b[1;32m      7\u001b[0m         \u001b[0;32melse\u001b[0m\u001b[0;34m:\u001b[0m\u001b[0;34m\u001b[0m\u001b[0;34m\u001b[0m\u001b[0m\n",
      "\u001b[0;32m/opt/anaconda3/envs/lhcbana/lib/python3.7/site-packages/pandas/core/generic.py\u001b[0m in \u001b[0;36m__nonzero__\u001b[0;34m(self)\u001b[0m\n\u001b[1;32m   1441\u001b[0m     \u001b[0;32mdef\u001b[0m \u001b[0m__nonzero__\u001b[0m\u001b[0;34m(\u001b[0m\u001b[0mself\u001b[0m\u001b[0;34m)\u001b[0m\u001b[0;34m:\u001b[0m\u001b[0;34m\u001b[0m\u001b[0;34m\u001b[0m\u001b[0m\n\u001b[1;32m   1442\u001b[0m         raise ValueError(\n\u001b[0;32m-> 1443\u001b[0;31m             \u001b[0;34mf\"The truth value of a {type(self).__name__} is ambiguous. \"\u001b[0m\u001b[0;34m\u001b[0m\u001b[0;34m\u001b[0m\u001b[0m\n\u001b[0m\u001b[1;32m   1444\u001b[0m             \u001b[0;34m\"Use a.empty, a.bool(), a.item(), a.any() or a.all().\"\u001b[0m\u001b[0;34m\u001b[0m\u001b[0;34m\u001b[0m\u001b[0m\n\u001b[1;32m   1445\u001b[0m         )\n",
      "\u001b[0;31mValueError\u001b[0m: The truth value of a Series is ambiguous. Use a.empty, a.bool(), a.item(), a.any() or a.all()."
     ]
    }
   ],
   "source": [
    "k1 = df3.loc[SelectKaons(df3.Lb_ISOLATION_TruePID, PDGKaons)]\n",
    "k1.shape[0]"
   ]
  },
  {
   "cell_type": "code",
   "execution_count": null,
   "id": "ee125108",
   "metadata": {},
   "outputs": [],
   "source": []
  }
 ],
 "metadata": {
  "kernelspec": {
   "display_name": "Python 3",
   "language": "python",
   "name": "python3"
  },
  "language_info": {
   "codemirror_mode": {
    "name": "ipython",
    "version": 3
   },
   "file_extension": ".py",
   "mimetype": "text/x-python",
   "name": "python",
   "nbconvert_exporter": "python",
   "pygments_lexer": "ipython3",
   "version": "3.7.10"
  }
 },
 "nbformat": 4,
 "nbformat_minor": 5
}
