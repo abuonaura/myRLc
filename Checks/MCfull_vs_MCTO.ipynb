{
 "cells": [
  {
   "cell_type": "code",
   "execution_count": 1,
   "id": "6db592fd",
   "metadata": {},
   "outputs": [
    {
     "name": "stdout",
     "output_type": "stream",
     "text": [
      "Welcome to JupyROOT 6.24/00\n"
     ]
    }
   ],
   "source": [
    "import ROOT as r\n",
    "from ROOT import TFile, TTree, TH1F, TCanvas, TMath, TLegend\n",
    "from array import array\n",
    "import matplotlib as mpl\n",
    "import matplotlib.pyplot as plt\n",
    "import uproot\n",
    "import sys, os\n",
    "import pandas as pd\n",
    "import numpy as np\n",
    "#plt.style.use('default')\n",
    "\n",
    "%matplotlib inline\n",
    "%matplotlib widget\n",
    "%jsroot on "
   ]
  },
  {
   "cell_type": "code",
   "execution_count": 2,
   "id": "36f7f2c1",
   "metadata": {},
   "outputs": [],
   "source": [
    "samples = ['Lb_Lcmunu','Lb_Lctaunu','Lb_LcDs','Lb_Lc2593munu','Lb_Lc2593taunu','Lb_Lc2593Ds',\n",
    "             'Lb_Lc2625munu','Lb_Lc2625taunu','Lb_Lc2625Ds']\n",
    "polarities = ['MagUp','MagDown']\n",
    "#folder = '/disk/lhcb_data2/RLcMuonic2016/MC_full_trueTrigger/'\n",
    "#folderTO = '/disk/lhcb_data2/RLcMuonic2016/MC_TrackerOnly/'\n",
    "folder = '/Users/annarita/cernbox/LHCbDatasets/MC_full_trueTrigger/'\n",
    "folderTO = '/Users/annarita/cernbox/LHCbDatasets/MC_TrackerOnly/'\n",
    "muMotherID = {'Lb_Lcmunu':[5122],'Lb_Lc2625munu':[5122],'Lb_Lc2593munu':[5122],\n",
    "             'Lb_Lctaunu':[13],'Lb_Lc2625taunu':[13],'Lb_Lc2593taunu':[13],\n",
    "             'Lb_LcDs':[431,421,411],'Lb_Lc2625Ds':[431,421,411],'Lb_Lc2593Ds':[431,421,411]}\n",
    "variables = ['Lb_IPCHI2_OWNPV', 'Lb_IP_OWNPV', 'Lb_TRUEP_X','Lb_TRUEP_Y','Lb_TRUEP_Z','Lb_BKGCAT','Lc_BKGCAT',\n",
    "            'Lb_TRUEID', 'Lc_TRUEID', 'mu_TRUEID', 'mu_MC_MOTHER_ID','Lb_P','Lb_PT','Lc_M','mu_PT','mu_P','p_P',\n",
    "             'p_PT','K_P','K_PT','pi_P','pi_PT','FitVar_El_mLc','FitVar_q2_mLc','FitVar_Mmiss2_mLc']"
   ]
  },
  {
   "cell_type": "code",
   "execution_count": 3,
   "id": "1fda21b4",
   "metadata": {},
   "outputs": [],
   "source": [
    "def TruthMatchMotherID(sample,branches):\n",
    "    if sample not in ['Lb_LcDs','Lb_Lc2625Ds','Lb_Lc2593Ds']:\n",
    "        MuonMother_mask = abs(branches['mu_MC_MOTHER_ID'])==muMotherID[sample][0]\n",
    "    else:\n",
    "        MuonMother_mask = (abs(branches['mu_MC_MOTHER_ID'])==muMotherID[sample][0])|(abs(branches['mu_MC_MOTHER_ID'])==muMotherID[sample][1])|(abs(branches['mu_MC_MOTHER_ID'])==muMotherID[sample][2])\n",
    "    return MuonMother_mask"
   ]
  },
  {
   "cell_type": "code",
   "execution_count": 4,
   "id": "ed144de8",
   "metadata": {},
   "outputs": [],
   "source": [
    "def TruthMatch(sample, branches):\n",
    "    TruthMatch_mask = (branches['Lc_BKGCAT']<30) & (branches['Lb_BKGCAT']<50) & (abs(branches['Lb_TRUEID'])==5122) & (abs(branches['Lc_TRUEID'])==4122)\n",
    "    return TruthMatch_mask"
   ]
  },
  {
   "cell_type": "code",
   "execution_count": 5,
   "id": "d4508e95",
   "metadata": {},
   "outputs": [],
   "source": [
    "#samples = ['Lb_Lcmunu']\n",
    "branches, branchesTO = {}, {}\n",
    "MuonMother_mask, MuonMother_mask_TO = {}, {}\n",
    "TruthMatch_mask, TruthMatch_mask_TO = {}, {}\n",
    "for sample in samples:\n",
    "    f = uproot.open(folder+sample+'_MagUp_full.root')\n",
    "    t = f['tupleout/DecayTree']\n",
    "    fTO = uproot.open(folderTO+sample+'_MagUp.root')\n",
    "    tTO = fTO['tupleout/DecayTree']\n",
    "    branches[sample] = t.arrays(variables, library=\"np\")\n",
    "    branchesTO[sample] = tTO.arrays(variables, library=\"np\")\n",
    "    MuonMother_mask[sample] = TruthMatchMotherID(sample,branches[sample])\n",
    "    MuonMother_mask_TO[sample] = TruthMatchMotherID(sample,branchesTO[sample])\n",
    "    TruthMatch_mask[sample] = TruthMatch(sample, branches[sample])\n",
    "    TruthMatch_mask_TO[sample] = TruthMatch(sample, branchesTO[sample])"
   ]
  },
  {
   "cell_type": "code",
   "execution_count": 6,
   "id": "aac1f3f7",
   "metadata": {},
   "outputs": [],
   "source": [
    "fig = {}\n",
    "plotvars = {'Lb_IPCHI2_OWNPV':[0,5e3], 'Lb_IP_OWNPV':[0,25], 'Lb_TRUEP_X':[-100e3,100e3],'Lb_TRUEP_Y':[-100e3,100e3],\n",
    "            'Lb_TRUEP_Z':[0,5e5],'Lb_P':[0,5e5],'Lb_PT':[0,80e3],'Lc_M':[2200,2380],'mu_PT':[0,5e4],'mu_P':[0,8e5],\n",
    "            'p_P':[0,6e5],'p_PT':[0,3e4],'K_P':[0,5e5],'K_PT':[0,3e4],'pi_P':[0,5e5],'pi_PT':[0,3e4],\n",
    "            'FitVar_El_mLc':[0,2e4],'FitVar_q2_mLc':[-2e6,12e6],'FitVar_Mmiss2_mLc':[-2e6,12e6]}"
   ]
  },
  {
   "cell_type": "code",
   "execution_count": 7,
   "id": "7c2a46df",
   "metadata": {},
   "outputs": [
    {
     "data": {
      "application/vnd.jupyter.widget-view+json": {
       "model_id": "2c0409b9f16b47f49342ead4478b2fca",
       "version_major": 2,
       "version_minor": 0
      },
      "text/plain": [
       "Canvas(toolbar=Toolbar(toolitems=[('Home', 'Reset original view', 'home', 'home'), ('Back', 'Back to previous …"
      ]
     },
     "metadata": {},
     "output_type": "display_data"
    },
    {
     "name": "stdout",
     "output_type": "stream",
     "text": [
      "Lb_Lcmunu 0\n",
      "Lb_Lctaunu 1\n",
      "Lb_LcDs 2\n"
     ]
    },
    {
     "name": "stderr",
     "output_type": "stream",
     "text": [
      "/opt/anaconda3/envs/lhcbana/lib/python3.7/site-packages/numpy/lib/histograms.py:905: RuntimeWarning: invalid value encountered in true_divide\n",
      "  return n/db/n.sum(), bin_edges\n"
     ]
    },
    {
     "name": "stdout",
     "output_type": "stream",
     "text": [
      "Lb_Lc2593munu 3\n",
      "Lb_Lc2593taunu 4\n",
      "Lb_Lc2593Ds 5\n",
      "Lb_Lc2625munu 6\n"
     ]
    },
    {
     "ename": "IndexError",
     "evalue": "index 3 is out of bounds for axis 0 with size 3",
     "output_type": "error",
     "traceback": [
      "\u001b[0;31m---------------------------------------------------------------------------\u001b[0m",
      "\u001b[0;31mIndexError\u001b[0m                                Traceback (most recent call last)",
      "\u001b[0;32m<ipython-input-7-b283229d0117>\u001b[0m in \u001b[0;36m<module>\u001b[0;34m\u001b[0m\n\u001b[1;32m      7\u001b[0m         \u001b[0;31m#print(position[i])\u001b[0m\u001b[0;34m\u001b[0m\u001b[0;34m\u001b[0m\u001b[0;34m\u001b[0m\u001b[0m\n\u001b[1;32m      8\u001b[0m         \u001b[0;31m#print(position[i][0],position[i][1])\u001b[0m\u001b[0;34m\u001b[0m\u001b[0;34m\u001b[0m\u001b[0;34m\u001b[0m\u001b[0m\n\u001b[0;32m----> 9\u001b[0;31m         \u001b[0maxis\u001b[0m\u001b[0;34m[\u001b[0m\u001b[0mplotvar\u001b[0m\u001b[0;34m]\u001b[0m\u001b[0;34m[\u001b[0m\u001b[0mposition\u001b[0m\u001b[0;34m[\u001b[0m\u001b[0mi\u001b[0m\u001b[0;34m]\u001b[0m\u001b[0;34m[\u001b[0m\u001b[0;36m0\u001b[0m\u001b[0;34m]\u001b[0m\u001b[0;34m,\u001b[0m\u001b[0mposition\u001b[0m\u001b[0;34m[\u001b[0m\u001b[0mi\u001b[0m\u001b[0;34m]\u001b[0m\u001b[0;34m[\u001b[0m\u001b[0;36m1\u001b[0m\u001b[0;34m]\u001b[0m\u001b[0;34m]\u001b[0m\u001b[0;34m.\u001b[0m\u001b[0mhist\u001b[0m\u001b[0;34m(\u001b[0m\u001b[0mbranches\u001b[0m\u001b[0;34m[\u001b[0m\u001b[0msample\u001b[0m\u001b[0;34m]\u001b[0m\u001b[0;34m[\u001b[0m\u001b[0mplotvar\u001b[0m\u001b[0;34m]\u001b[0m\u001b[0;34m[\u001b[0m\u001b[0mTruthMatch_mask\u001b[0m\u001b[0;34m[\u001b[0m\u001b[0msample\u001b[0m\u001b[0;34m]\u001b[0m \u001b[0;34m&\u001b[0m \u001b[0mMuonMother_mask\u001b[0m\u001b[0;34m[\u001b[0m\u001b[0msample\u001b[0m\u001b[0;34m]\u001b[0m\u001b[0;34m]\u001b[0m\u001b[0;34m.\u001b[0m\u001b[0mflatten\u001b[0m\u001b[0;34m(\u001b[0m\u001b[0;34m)\u001b[0m\u001b[0;34m,\u001b[0m\u001b[0mbins\u001b[0m\u001b[0;34m=\u001b[0m\u001b[0;36m50\u001b[0m\u001b[0;34m,\u001b[0m\u001b[0mrange\u001b[0m\u001b[0;34m=\u001b[0m\u001b[0;34m(\u001b[0m\u001b[0mplotvars\u001b[0m\u001b[0;34m[\u001b[0m\u001b[0mplotvar\u001b[0m\u001b[0;34m]\u001b[0m\u001b[0;34m[\u001b[0m\u001b[0;36m0\u001b[0m\u001b[0;34m]\u001b[0m\u001b[0;34m,\u001b[0m \u001b[0mplotvars\u001b[0m\u001b[0;34m[\u001b[0m\u001b[0mplotvar\u001b[0m\u001b[0;34m]\u001b[0m\u001b[0;34m[\u001b[0m\u001b[0;36m1\u001b[0m\u001b[0;34m]\u001b[0m\u001b[0;34m)\u001b[0m\u001b[0;34m,\u001b[0m\u001b[0mdensity\u001b[0m\u001b[0;34m=\u001b[0m\u001b[0;32mTrue\u001b[0m\u001b[0;34m,\u001b[0m\u001b[0malpha\u001b[0m\u001b[0;34m=\u001b[0m\u001b[0;36m0.5\u001b[0m\u001b[0;34m,\u001b[0m\u001b[0mlabel\u001b[0m\u001b[0;34m=\u001b[0m\u001b[0;34m'Full'\u001b[0m\u001b[0;34m)\u001b[0m\u001b[0;34m\u001b[0m\u001b[0;34m\u001b[0m\u001b[0m\n\u001b[0m\u001b[1;32m     10\u001b[0m         \u001b[0maxis\u001b[0m\u001b[0;34m[\u001b[0m\u001b[0mplotvar\u001b[0m\u001b[0;34m]\u001b[0m\u001b[0;34m[\u001b[0m\u001b[0mposition\u001b[0m\u001b[0;34m[\u001b[0m\u001b[0mi\u001b[0m\u001b[0;34m]\u001b[0m\u001b[0;34m[\u001b[0m\u001b[0;36m0\u001b[0m\u001b[0;34m]\u001b[0m\u001b[0;34m,\u001b[0m\u001b[0mposition\u001b[0m\u001b[0;34m[\u001b[0m\u001b[0mi\u001b[0m\u001b[0;34m]\u001b[0m\u001b[0;34m[\u001b[0m\u001b[0;36m1\u001b[0m\u001b[0;34m]\u001b[0m\u001b[0;34m]\u001b[0m\u001b[0;34m.\u001b[0m\u001b[0mhist\u001b[0m\u001b[0;34m(\u001b[0m\u001b[0mbranchesTO\u001b[0m\u001b[0;34m[\u001b[0m\u001b[0msample\u001b[0m\u001b[0;34m]\u001b[0m\u001b[0;34m[\u001b[0m\u001b[0mplotvar\u001b[0m\u001b[0;34m]\u001b[0m\u001b[0;34m[\u001b[0m\u001b[0mTruthMatch_mask_TO\u001b[0m\u001b[0;34m[\u001b[0m\u001b[0msample\u001b[0m\u001b[0;34m]\u001b[0m \u001b[0;34m&\u001b[0m \u001b[0mMuonMother_mask_TO\u001b[0m\u001b[0;34m[\u001b[0m\u001b[0msample\u001b[0m\u001b[0;34m]\u001b[0m\u001b[0;34m]\u001b[0m\u001b[0;34m.\u001b[0m\u001b[0mflatten\u001b[0m\u001b[0;34m(\u001b[0m\u001b[0;34m)\u001b[0m\u001b[0;34m,\u001b[0m\u001b[0mbins\u001b[0m\u001b[0;34m=\u001b[0m\u001b[0;36m50\u001b[0m\u001b[0;34m,\u001b[0m\u001b[0mrange\u001b[0m\u001b[0;34m=\u001b[0m\u001b[0;34m(\u001b[0m\u001b[0mplotvars\u001b[0m\u001b[0;34m[\u001b[0m\u001b[0mplotvar\u001b[0m\u001b[0;34m]\u001b[0m\u001b[0;34m[\u001b[0m\u001b[0;36m0\u001b[0m\u001b[0;34m]\u001b[0m\u001b[0;34m,\u001b[0m \u001b[0mplotvars\u001b[0m\u001b[0;34m[\u001b[0m\u001b[0mplotvar\u001b[0m\u001b[0;34m]\u001b[0m\u001b[0;34m[\u001b[0m\u001b[0;36m1\u001b[0m\u001b[0;34m]\u001b[0m\u001b[0;34m)\u001b[0m\u001b[0;34m,\u001b[0m\u001b[0mdensity\u001b[0m\u001b[0;34m=\u001b[0m\u001b[0;32mTrue\u001b[0m\u001b[0;34m,\u001b[0m\u001b[0malpha\u001b[0m\u001b[0;34m=\u001b[0m\u001b[0;36m0.5\u001b[0m\u001b[0;34m,\u001b[0m\u001b[0mlabel\u001b[0m\u001b[0;34m=\u001b[0m\u001b[0;34m'TO'\u001b[0m\u001b[0;34m)\u001b[0m\u001b[0;34m\u001b[0m\u001b[0;34m\u001b[0m\u001b[0m\n\u001b[1;32m     11\u001b[0m         \u001b[0maxis\u001b[0m\u001b[0;34m[\u001b[0m\u001b[0mplotvar\u001b[0m\u001b[0;34m]\u001b[0m\u001b[0;34m[\u001b[0m\u001b[0mposition\u001b[0m\u001b[0;34m[\u001b[0m\u001b[0mi\u001b[0m\u001b[0;34m]\u001b[0m\u001b[0;34m[\u001b[0m\u001b[0;36m0\u001b[0m\u001b[0;34m]\u001b[0m\u001b[0;34m,\u001b[0m\u001b[0mposition\u001b[0m\u001b[0;34m[\u001b[0m\u001b[0mi\u001b[0m\u001b[0;34m]\u001b[0m\u001b[0;34m[\u001b[0m\u001b[0;36m1\u001b[0m\u001b[0;34m]\u001b[0m\u001b[0;34m]\u001b[0m\u001b[0;34m.\u001b[0m\u001b[0mset_title\u001b[0m\u001b[0;34m(\u001b[0m\u001b[0mplotvar\u001b[0m\u001b[0;34m+\u001b[0m\u001b[0;34m'_'\u001b[0m\u001b[0;34m+\u001b[0m\u001b[0msample\u001b[0m\u001b[0;34m)\u001b[0m\u001b[0;34m\u001b[0m\u001b[0;34m\u001b[0m\u001b[0m\n",
      "\u001b[0;31mIndexError\u001b[0m: index 3 is out of bounds for axis 0 with size 3"
     ]
    }
   ],
   "source": [
    "figure, axis = {}, {}\n",
    "position = [[0,0],[0,1],[0,2],[1,0],[1,1],[1,2],[3,1],[3,2],[3,3]]\n",
    "for plotvar in plotvars.keys():\n",
    "    figure[plotvar],axis[plotvar] = plt.subplots(3, 3,figsize=(15,15))\n",
    "    for i,sample in enumerate(samples):\n",
    "        print(sample,i)\n",
    "        #print(position[i])\n",
    "        #print(position[i][0],position[i][1])\n",
    "        axis[plotvar][position[i][0],position[i][1]].hist(branches[sample][plotvar][TruthMatch_mask[sample] & MuonMother_mask[sample]].flatten(),bins=50,range=(plotvars[plotvar][0], plotvars[plotvar][1]),density=True,alpha=0.5,label='Full')\n",
    "        axis[plotvar][position[i][0],position[i][1]].hist(branchesTO[sample][plotvar][TruthMatch_mask_TO[sample] & MuonMother_mask_TO[sample]].flatten(),bins=50,range=(plotvars[plotvar][0], plotvars[plotvar][1]),density=True,alpha=0.5,label='TO')\n",
    "        axis[plotvar][position[i][0],position[i][1]].set_title(plotvar+'_'+sample)\n",
    "        axis[plotvar][position[i][0],position[i][1]].legend(loc='upper right')"
   ]
  },
  {
   "cell_type": "code",
   "execution_count": 12,
   "id": "b5cba4c4",
   "metadata": {
    "collapsed": true
   },
   "outputs": [
    {
     "data": {
      "application/vnd.jupyter.widget-view+json": {
       "model_id": "826365cd975444fcbed44085635ff723",
       "version_major": 2,
       "version_minor": 0
      },
      "text/plain": [
       "Canvas(toolbar=Toolbar(toolitems=[('Home', 'Reset original view', 'home', 'home'), ('Back', 'Back to previous …"
      ]
     },
     "metadata": {},
     "output_type": "display_data"
    },
    {
     "name": "stderr",
     "output_type": "stream",
     "text": [
      "/opt/anaconda3/envs/lhcbana/lib/python3.7/site-packages/ipykernel_launcher.py:4: RuntimeWarning: More than 20 figures have been opened. Figures created through the pyplot interface (`matplotlib.pyplot.figure`) are retained until explicitly closed and may consume too much memory. (To control this warning, see the rcParam `figure.max_open_warning`).\n",
      "  after removing the cwd from sys.path.\n"
     ]
    },
    {
     "data": {
      "application/vnd.jupyter.widget-view+json": {
       "model_id": "9790be1ad9304bf28269a3fd173335cb",
       "version_major": 2,
       "version_minor": 0
      },
      "text/plain": [
       "Canvas(toolbar=Toolbar(toolitems=[('Home', 'Reset original view', 'home', 'home'), ('Back', 'Back to previous …"
      ]
     },
     "metadata": {},
     "output_type": "display_data"
    },
    {
     "data": {
      "application/vnd.jupyter.widget-view+json": {
       "model_id": "51b6c19c14c6437aa303cebe7e7ebef9",
       "version_major": 2,
       "version_minor": 0
      },
      "text/plain": [
       "Canvas(toolbar=Toolbar(toolitems=[('Home', 'Reset original view', 'home', 'home'), ('Back', 'Back to previous …"
      ]
     },
     "metadata": {},
     "output_type": "display_data"
    },
    {
     "data": {
      "application/vnd.jupyter.widget-view+json": {
       "model_id": "9957b13d3af74b039311d9573de34b82",
       "version_major": 2,
       "version_minor": 0
      },
      "text/plain": [
       "Canvas(toolbar=Toolbar(toolitems=[('Home', 'Reset original view', 'home', 'home'), ('Back', 'Back to previous …"
      ]
     },
     "metadata": {},
     "output_type": "display_data"
    },
    {
     "data": {
      "application/vnd.jupyter.widget-view+json": {
       "model_id": "f067584efb814ceca3b3ccc4952bf87a",
       "version_major": 2,
       "version_minor": 0
      },
      "text/plain": [
       "Canvas(toolbar=Toolbar(toolitems=[('Home', 'Reset original view', 'home', 'home'), ('Back', 'Back to previous …"
      ]
     },
     "metadata": {},
     "output_type": "display_data"
    },
    {
     "data": {
      "application/vnd.jupyter.widget-view+json": {
       "model_id": "3faf146cbe054d6fa3121efb33e8d7fb",
       "version_major": 2,
       "version_minor": 0
      },
      "text/plain": [
       "Canvas(toolbar=Toolbar(toolitems=[('Home', 'Reset original view', 'home', 'home'), ('Back', 'Back to previous …"
      ]
     },
     "metadata": {},
     "output_type": "display_data"
    },
    {
     "data": {
      "application/vnd.jupyter.widget-view+json": {
       "model_id": "2aaa19fc1b72458caeb29ef043082011",
       "version_major": 2,
       "version_minor": 0
      },
      "text/plain": [
       "Canvas(toolbar=Toolbar(toolitems=[('Home', 'Reset original view', 'home', 'home'), ('Back', 'Back to previous …"
      ]
     },
     "metadata": {},
     "output_type": "display_data"
    },
    {
     "data": {
      "application/vnd.jupyter.widget-view+json": {
       "model_id": "1e55ca24f9374e9382cc47c77792dcbe",
       "version_major": 2,
       "version_minor": 0
      },
      "text/plain": [
       "Canvas(toolbar=Toolbar(toolitems=[('Home', 'Reset original view', 'home', 'home'), ('Back', 'Back to previous …"
      ]
     },
     "metadata": {},
     "output_type": "display_data"
    },
    {
     "data": {
      "application/vnd.jupyter.widget-view+json": {
       "model_id": "5b73a791576d47b283c2950ba8893a41",
       "version_major": 2,
       "version_minor": 0
      },
      "text/plain": [
       "Canvas(toolbar=Toolbar(toolitems=[('Home', 'Reset original view', 'home', 'home'), ('Back', 'Back to previous …"
      ]
     },
     "metadata": {},
     "output_type": "display_data"
    },
    {
     "data": {
      "application/vnd.jupyter.widget-view+json": {
       "model_id": "35b56e6f558e4f96a9c3d1d1f92b0614",
       "version_major": 2,
       "version_minor": 0
      },
      "text/plain": [
       "Canvas(toolbar=Toolbar(toolitems=[('Home', 'Reset original view', 'home', 'home'), ('Back', 'Back to previous …"
      ]
     },
     "metadata": {},
     "output_type": "display_data"
    },
    {
     "data": {
      "application/vnd.jupyter.widget-view+json": {
       "model_id": "d5cc877ae5ef4994a912f09a816ffec8",
       "version_major": 2,
       "version_minor": 0
      },
      "text/plain": [
       "Canvas(toolbar=Toolbar(toolitems=[('Home', 'Reset original view', 'home', 'home'), ('Back', 'Back to previous …"
      ]
     },
     "metadata": {},
     "output_type": "display_data"
    },
    {
     "data": {
      "application/vnd.jupyter.widget-view+json": {
       "model_id": "678571112d314d73ac97bf6423b07b51",
       "version_major": 2,
       "version_minor": 0
      },
      "text/plain": [
       "Canvas(toolbar=Toolbar(toolitems=[('Home', 'Reset original view', 'home', 'home'), ('Back', 'Back to previous …"
      ]
     },
     "metadata": {},
     "output_type": "display_data"
    },
    {
     "data": {
      "application/vnd.jupyter.widget-view+json": {
       "model_id": "f0cd56c572264f4eb7c9c4012705e0e3",
       "version_major": 2,
       "version_minor": 0
      },
      "text/plain": [
       "Canvas(toolbar=Toolbar(toolitems=[('Home', 'Reset original view', 'home', 'home'), ('Back', 'Back to previous …"
      ]
     },
     "metadata": {},
     "output_type": "display_data"
    },
    {
     "data": {
      "application/vnd.jupyter.widget-view+json": {
       "model_id": "327906153d98421d9685106de0b40b89",
       "version_major": 2,
       "version_minor": 0
      },
      "text/plain": [
       "Canvas(toolbar=Toolbar(toolitems=[('Home', 'Reset original view', 'home', 'home'), ('Back', 'Back to previous …"
      ]
     },
     "metadata": {},
     "output_type": "display_data"
    },
    {
     "data": {
      "application/vnd.jupyter.widget-view+json": {
       "model_id": "560252f317614531923f0d6ae2527dc9",
       "version_major": 2,
       "version_minor": 0
      },
      "text/plain": [
       "Canvas(toolbar=Toolbar(toolitems=[('Home', 'Reset original view', 'home', 'home'), ('Back', 'Back to previous …"
      ]
     },
     "metadata": {},
     "output_type": "display_data"
    },
    {
     "data": {
      "application/vnd.jupyter.widget-view+json": {
       "model_id": "64633968dcba424cb8cc079bfaeba9d3",
       "version_major": 2,
       "version_minor": 0
      },
      "text/plain": [
       "Canvas(toolbar=Toolbar(toolitems=[('Home', 'Reset original view', 'home', 'home'), ('Back', 'Back to previous …"
      ]
     },
     "metadata": {},
     "output_type": "display_data"
    },
    {
     "data": {
      "application/vnd.jupyter.widget-view+json": {
       "model_id": "41be520c8f644a16bd8c4c4bde55e1cd",
       "version_major": 2,
       "version_minor": 0
      },
      "text/plain": [
       "Canvas(toolbar=Toolbar(toolitems=[('Home', 'Reset original view', 'home', 'home'), ('Back', 'Back to previous …"
      ]
     },
     "metadata": {},
     "output_type": "display_data"
    },
    {
     "data": {
      "application/vnd.jupyter.widget-view+json": {
       "model_id": "3cd1ae7450d440e8926426b85cce7f87",
       "version_major": 2,
       "version_minor": 0
      },
      "text/plain": [
       "Canvas(toolbar=Toolbar(toolitems=[('Home', 'Reset original view', 'home', 'home'), ('Back', 'Back to previous …"
      ]
     },
     "metadata": {},
     "output_type": "display_data"
    },
    {
     "data": {
      "application/vnd.jupyter.widget-view+json": {
       "model_id": "57aefd9088824a08b2df8c46f0748948",
       "version_major": 2,
       "version_minor": 0
      },
      "text/plain": [
       "Canvas(toolbar=Toolbar(toolitems=[('Home', 'Reset original view', 'home', 'home'), ('Back', 'Back to previous …"
      ]
     },
     "metadata": {},
     "output_type": "display_data"
    }
   ],
   "source": [
    "for sample in samples:\n",
    "    fig[sample] = {}\n",
    "    for plotvar in plotvars.keys():\n",
    "        fig[sample][plotvar] = plt.figure(figsize=(8,6))\n",
    "        plt.hist(branches[sample][plotvar][TruthMatch_mask[sample] & MuonMother_mask[sample]].flatten(),bins=50, range=(plotvars[plotvar][0], plotvars[plotvar][1]),density=True,alpha=0.5,label='Full')\n",
    "        plt.hist(branchesTO[sample][plotvar][TruthMatch_mask_TO[sample] & MuonMother_mask_TO[sample]].flatten(),bins=50, range=(plotvars[plotvar][0], plotvars[plotvar][1]), density=True,alpha=0.5,label='TO')\n",
    "        plt.legend(loc='upper right')\n",
    "        plt.yscale('log')\n",
    "        fig[sample][plotvar].show()"
   ]
  },
  {
   "cell_type": "code",
   "execution_count": null,
   "id": "39070f75",
   "metadata": {},
   "outputs": [],
   "source": [
    "    plt.figure(figsize=(8,6))\n",
    "    plt.hist(branches['Lb_IPCHI2_OWNPV'][TruthMatch_mask & MuonMother_mask].flatten(),bins=50, range=(0, 5000),density=True,alpha=0.5,label='Full')\n",
    "    plt.hist(branchesTO['Lb_IPCHI2_OWNPV'][TruthMatch_mask_TO & MuonMother_mask_TO].flatten(),bins=50, range=(0, 5000), density=True,alpha=0.5,label='TO')\n",
    "    plt.legend(loc='upper right')\n",
    "    plt.yscale('log')\n",
    "    plt.show()"
   ]
  },
  {
   "cell_type": "code",
   "execution_count": null,
   "id": "c829f80f",
   "metadata": {},
   "outputs": [],
   "source": [
    "    plt.figure(figsize=(8,6))\n",
    "    plt.hist(branches['Lb_P'][TruthMatch_mask & MuonMother_mask].flatten(),bins=50,density=True,alpha=0.5,label='Full')\n",
    "    plt.hist(branchesTO['Lb_P'][TruthMatch_mask_TO & MuonMother_mask_TO].flatten(),bins=50,density=True,alpha=0.5,label='TO')\n",
    "    plt.legend(loc='upper right')\n",
    "    plt.yscale('log')\n",
    "    plt.show()"
   ]
  },
  {
   "cell_type": "code",
   "execution_count": null,
   "id": "78e3bed5",
   "metadata": {},
   "outputs": [],
   "source": [
    "    plt.figure(figsize=(8,6))\n",
    "    plt.hist(branches['FitVar_El_mLc'][TruthMatch_mask & MuonMother_mask].flatten(),bins=50, range=(0, 5000),density=True,alpha=0.5,label='Full')\n",
    "    plt.hist(branchesTO['FitVar_El_mLc'][TruthMatch_mask_TO & MuonMother_mask_TO].flatten(),bins=50, range=(0, 5000), density=True,alpha=0.5,label='TO')\n",
    "    plt.legend(loc='upper right')\n",
    "    #plt.yscale('log')\n",
    "    plt.show()"
   ]
  },
  {
   "cell_type": "code",
   "execution_count": null,
   "id": "7aedef66",
   "metadata": {},
   "outputs": [],
   "source": [
    "    plt.figure(figsize=(8,6))\n",
    "    plt.hist(branches['FitVar_q2_mLc'][TruthMatch_mask & MuonMother_mask].flatten(),bins=50, range=(0,12e6),density=True,alpha=0.5,label='Full')\n",
    "    plt.hist(branchesTO['FitVar_q2_mLc'][TruthMatch_mask_TO & MuonMother_mask_TO].flatten(),bins=50, range=(0,12e6), density=True,alpha=0.5,label='TO')\n",
    "    plt.legend(loc='upper right')\n",
    "    #plt.yscale('log')\n",
    "    plt.show()"
   ]
  },
  {
   "cell_type": "code",
   "execution_count": null,
   "id": "89731612",
   "metadata": {},
   "outputs": [],
   "source": [
    "    plt.figure(figsize=(8,6))\n",
    "    plt.hist(branches['FitVar_Mmiss2_mLc'][TruthMatch_mask & MuonMother_mask].flatten(),bins=50, range=(0,12e6),density=True,alpha=0.5,label='Full')\n",
    "    plt.hist(branchesTO['FitVar_Mmiss2_mLc'][TruthMatch_mask_TO & MuonMother_mask_TO].flatten(),bins=50, range=(0,12e6), density=True,alpha=0.5,label='TO')\n",
    "    plt.legend(loc='upper right')\n",
    "    plt.yscale('log')\n",
    "    plt.show()"
   ]
  },
  {
   "cell_type": "code",
   "execution_count": null,
   "id": "cfaf1e2b",
   "metadata": {},
   "outputs": [],
   "source": [
    "    plt.figure(figsize=(8,6))\n",
    "    plt.hist(branches['Lb_PT'][TruthMatch_mask & MuonMother_mask].flatten(),bins=50, range=(0,1e3),density=True,alpha=0.5,label='Full')\n",
    "    plt.hist(branchesTO['Lb_PT'][TruthMatch_mask_TO & MuonMother_mask_TO].flatten(),bins=50, range=(0,1e3), density=True,alpha=0.5,label='TO')\n",
    "    plt.legend(loc='upper right')\n",
    "    plt.yscale('log')\n",
    "    plt.show()"
   ]
  },
  {
   "cell_type": "code",
   "execution_count": null,
   "id": "d154ade8",
   "metadata": {},
   "outputs": [],
   "source": [
    "    plt.figure(figsize=(8,6))\n",
    "    plt.hist(branches['Lb_PT'][TruthMatch_mask & MuonMother_mask].flatten(),bins=50, range=(0,5000),density=True,alpha=0.5,label='Full')\n",
    "    plt.hist(branchesTO['Lb_PT'][TruthMatch_mask_TO & MuonMother_mask_TO].flatten(),bins=50, range=(0,5e3), density=True,alpha=0.5,label='TO')\n",
    "    plt.legend(loc='upper right')\n",
    "    plt.yscale('log')\n",
    "    plt.show()"
   ]
  },
  {
   "cell_type": "code",
   "execution_count": null,
   "id": "7b45b616",
   "metadata": {},
   "outputs": [],
   "source": [
    "    plt.figure(figsize=(8,6))\n",
    "    plt.hist(branches['mu_PT'][TruthMatch_mask & MuonMother_mask].flatten(),bins=50, range=(0,8e4),density=True,alpha=0.5,label='Full')\n",
    "    plt.hist(branchesTO['mu_PT'][TruthMatch_mask_TO & MuonMother_mask_TO].flatten(),bins=50, range=(0,8e4), density=True,alpha=0.5,label='TO')\n",
    "    plt.legend(loc='upper right')\n",
    "    plt.yscale('log')\n",
    "    plt.show()"
   ]
  },
  {
   "cell_type": "code",
   "execution_count": null,
   "id": "e976b642",
   "metadata": {},
   "outputs": [],
   "source": [
    "    # Initialise the subplot function using number of rows and columns\n",
    "    figure, axis = plt.subplots(3, 2,figsize=(15,15))\n",
    "\n",
    "    # For Sine Function\n",
    "    axis[0, 0].hist(branches['p_P'][TruthMatch_mask & MuonMother_mask].flatten(),bins=50,density=True,alpha=0.5,label='Full')\n",
    "    axis[0, 0].hist(branchesTO['p_P'][TruthMatch_mask_TO & MuonMother_mask_TO].flatten(),bins=50,density=True,alpha=0.5,label='TO')\n",
    "    axis[0, 0].set_title(\"p_P\")\n",
    "    axis[0, 0].legend(loc='upper right')\n",
    "    \n",
    "    # For Cosine Function\n",
    "    axis[0, 1].hist(branches['p_PT'][TruthMatch_mask & MuonMother_mask].flatten(),bins=50,density=True,alpha=0.5,label='Full')\n",
    "    axis[0, 1].hist(branchesTO['p_PT'][TruthMatch_mask_TO & MuonMother_mask_TO].flatten(),bins=50,density=True,alpha=0.5,label='TO')\n",
    "    axis[0, 1].set_title(\"p_PT\")\n",
    "\n",
    "    # For Tangent Function\n",
    "    axis[1, 0].hist(branches['K_P'][TruthMatch_mask & MuonMother_mask].flatten(),bins=50,density=True,alpha=0.5,label='Full')\n",
    "    axis[1, 0].hist(branchesTO['K_P'][TruthMatch_mask_TO & MuonMother_mask_TO].flatten(),bins=50,density=True,alpha=0.5,label='TO')\n",
    "    axis[1, 0].set_title(\"K_P\")\n",
    "    \n",
    "    axis[1, 1].hist(branches['K_PT'][TruthMatch_mask & MuonMother_mask].flatten(),bins=50,density=True,alpha=0.5,label='Full')\n",
    "    axis[1, 1].hist(branchesTO['K_PT'][TruthMatch_mask_TO & MuonMother_mask_TO].flatten(),bins=50,density=True,alpha=0.5,label='TO')\n",
    "    axis[1, 1].set_title(\"K_PT\")\n",
    "\n",
    "    # For Tanh Function\n",
    "    axis[2, 0].hist(branches['pi_P'][TruthMatch_mask & MuonMother_mask].flatten(),bins=50,density=True,alpha=0.5,label='Full')\n",
    "    axis[2, 0].hist(branchesTO['pi_P'][TruthMatch_mask_TO & MuonMother_mask_TO].flatten(),bins=50,density=True,alpha=0.5,label='TO')\n",
    "    axis[2, 0].set_title(\"pi_P\")\n",
    "    \n",
    "    axis[2, 1].hist(branches['pi_PT'][TruthMatch_mask & MuonMother_mask].flatten(),bins=50,density=True,alpha=0.5,label='Full')\n",
    "    axis[2, 1].hist(branchesTO['pi_PT'][TruthMatch_mask_TO & MuonMother_mask_TO].flatten(),bins=50,density=True,alpha=0.5,label='TO')\n",
    "    axis[2, 1].set_title(\"pi_PT\")\n",
    "\n",
    "    # Combine all the operations and display\n",
    "    plt.show()"
   ]
  },
  {
   "cell_type": "code",
   "execution_count": null,
   "id": "f59e75df",
   "metadata": {},
   "outputs": [],
   "source": [
    "samples = ['Lb_Lcmunu']\n",
    "branches, branchesTO = {}, {}\n",
    "MuonMother_mask, MuonMother_mask_TO = {}, {}\n",
    "TruthMatch_mask, TruthMatch_mask_TO = {}, {}\n",
    "for sample in samples:\n",
    "    f = uproot.open(folder+sample+'_MagUp_full.root')\n",
    "    t = f['tupleout/DecayTree']\n",
    "    fTO = uproot.open(folderTO+sample+'_MagUp.root')\n",
    "    tTO = fTO['tupleout/DecayTree']\n",
    "    branches[sample] = t.arrays(variables, library=\"np\")\n",
    "    branchesTO[sample] = tTO.arrays(variables, library=\"np\")\n",
    "    MuonMother_mask[sample] = TruthMatchMotherID(sample,branches[sample])\n",
    "    MuonMother_mask_TO[sample] = TruthMatchMotherID(sample,branchesTO[sample])\n",
    "    TruthMatch_mask[sample] = TruthMatch(sample, branches[sample])\n",
    "    TruthMatch_mask_TO[sample] = TruthMatch(sample, branchesTO[sample])"
   ]
  },
  {
   "cell_type": "code",
   "execution_count": null,
   "id": "b15358ed",
   "metadata": {},
   "outputs": [],
   "source": [
    "branches['Lb_Lcmunu']"
   ]
  },
  {
   "cell_type": "code",
   "execution_count": null,
   "id": "4365eec9",
   "metadata": {},
   "outputs": [],
   "source": [
    "MuonMother_mask"
   ]
  },
  {
   "cell_type": "code",
   "execution_count": null,
   "id": "628a3c65",
   "metadata": {},
   "outputs": [],
   "source": [
    "for sample in samples:\n",
    "    plt.figure(figsize=(8,6))\n",
    "    plt.hist(branches[sample]['Lb_IPCHI2_OWNPV'][TruthMatch_mask[sample] & MuonMother_mask[sample]].flatten(),bins=50, range=(0, 5000),density=True,alpha=0.5,label='Full')\n",
    "    plt.hist(branchesTO[sample]['Lb_IPCHI2_OWNPV'][TruthMatch_mask_TO[sample] & MuonMother_mask_TO[sample]].flatten(),bins=50, range=(0, 5000), density=True,alpha=0.5,label='TO')\n",
    "    plt.legend(loc='upper right')\n",
    "    plt.yscale('log')\n",
    "    plt.show()"
   ]
  },
  {
   "cell_type": "code",
   "execution_count": null,
   "id": "e1a02e90",
   "metadata": {},
   "outputs": [],
   "source": []
  }
 ],
 "metadata": {
  "kernelspec": {
   "display_name": "Python 3",
   "language": "python",
   "name": "python3"
  },
  "language_info": {
   "codemirror_mode": {
    "name": "ipython",
    "version": 3
   },
   "file_extension": ".py",
   "mimetype": "text/x-python",
   "name": "python",
   "nbconvert_exporter": "python",
   "pygments_lexer": "ipython3",
   "version": "3.7.10"
  }
 },
 "nbformat": 4,
 "nbformat_minor": 5
}
